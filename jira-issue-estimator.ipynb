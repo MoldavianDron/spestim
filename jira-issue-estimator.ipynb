{
 "cells": [
  {
   "cell_type": "markdown",
   "metadata": {
    "pycharm": {
     "name": "#%% md\n"
    }
   },
   "source": [
    "**Sources**:\n",
    "\n",
    "[Software estimation machine learning article](https://uruit.com/blog/software-estimation-machine-learning/)\n",
    "\n",
    "[Text preprocessing in NLP beginner guide](https://swatimeena989.medium.com/beginners-guide-for-preprocessing-text-data-f3156bec85ca#47f5)"
   ]
  },
  {
   "cell_type": "code",
   "execution_count": 37,
   "metadata": {
    "pycharm": {
     "name": "#%%\n"
    }
   },
   "outputs": [],
   "source": [
    "import pandas as pd\n",
    "import numpy as np\n",
    "\n",
    "df = pd.read_csv(\"dataset.csv\")"
   ]
  },
  {
   "cell_type": "markdown",
   "metadata": {
    "pycharm": {
     "name": "#%% md\n"
    }
   },
   "source": [
    "Let's check how many rows have null description:"
   ]
  },
  {
   "cell_type": "code",
   "execution_count": 38,
   "metadata": {
    "pycharm": {
     "name": "#%%\n"
    }
   },
   "outputs": [
    {
     "data": {
      "text/plain": [
       "issuekey         0\n",
       "title            0\n",
       "description    296\n",
       "storypoint       0\n",
       "dtype: int64"
      ]
     },
     "execution_count": 38,
     "metadata": {},
     "output_type": "execute_result"
    }
   ],
   "source": [
    "df.isnull().sum()"
   ]
  },
  {
   "cell_type": "markdown",
   "metadata": {
    "pycharm": {
     "name": "#%% md\n"
    }
   },
   "source": [
    "Let's remove incomplete entries"
   ]
  },
  {
   "cell_type": "code",
   "execution_count": 39,
   "metadata": {
    "pycharm": {
     "name": "#%%\n"
    }
   },
   "outputs": [],
   "source": [
    "df = df.dropna(how='any')"
   ]
  },
  {
   "cell_type": "markdown",
   "metadata": {
    "pycharm": {
     "name": "#%% md\n"
    }
   },
   "source": [
    "Let's take a look on amount of items per each storypoint value:"
   ]
  },
  {
   "cell_type": "code",
   "execution_count": 40,
   "metadata": {
    "pycharm": {
     "name": "#%%\n"
    }
   },
   "outputs": [
    {
     "data": {
      "text/plain": [
       "storypoint\n",
       "1.0      401\n",
       "0.5      354\n",
       "2.0      261\n",
       "3.0      135\n",
       "0.0       73\n",
       "5.0       49\n",
       "8.0       18\n",
       "0.1        5\n",
       "13.0       4\n",
       "80.0       4\n",
       "101.0      3\n",
       "4.0        2\n",
       "21.0       1\n",
       "1.5        1\n",
       "666.0      1\n",
       "40.0       1\n",
       "Name: count, dtype: int64"
      ]
     },
     "execution_count": 40,
     "metadata": {},
     "output_type": "execute_result"
    }
   ],
   "source": [
    "df.storypoint.value_counts()"
   ]
  },
  {
   "cell_type": "markdown",
   "metadata": {
    "pycharm": {
     "name": "#%% md\n"
    }
   },
   "source": [
    "Let's remove all the issues with storypoint estimation > 8. There are not to many samples with such SP estimation and it can only impact badly on ML model performance. And also all the issues with low amount of representatives (0.1, 4.0, 1.5)"
   ]
  },
  {
   "cell_type": "code",
   "execution_count": 41,
   "metadata": {
    "pycharm": {
     "name": "#%%\n"
    }
   },
   "outputs": [
    {
     "data": {
      "text/plain": [
       "storypoint\n",
       "1.0    401\n",
       "0.5    354\n",
       "2.0    261\n",
       "3.0    135\n",
       "0.0     73\n",
       "5.0     49\n",
       "8.0     18\n",
       "Name: count, dtype: int64"
      ]
     },
     "execution_count": 41,
     "metadata": {},
     "output_type": "execute_result"
    }
   ],
   "source": [
    "df = df.loc[df['storypoint'] <= 8]\n",
    "df = df.loc[df['storypoint'] != 0.1]\n",
    "df = df.loc[df['storypoint'] != 4.0]\n",
    "df = df.loc[df['storypoint'] != 1.5]\n",
    "df.storypoint.value_counts()"
   ]
  },
  {
   "cell_type": "markdown",
   "metadata": {
    "pycharm": {
     "name": "#%% md\n"
    }
   },
   "source": [
    "It is an **imbalanced** dataset as the number of _0.5_ and _1.0_ prevails over over categories. It could be an issue in *classification* problems. Let's **group** story points into 4 different categories to reduce the imbalanced data:"
   ]
  },
  {
   "cell_type": "code",
   "execution_count": 42,
   "metadata": {
    "pycharm": {
     "name": "#%%\n"
    }
   },
   "outputs": [
    {
     "data": {
      "text/plain": [
       "storypoint\n",
       "0.0    427\n",
       "1.0    401\n",
       "2.0    261\n",
       "3.0    202\n",
       "Name: count, dtype: int64"
      ]
     },
     "execution_count": 42,
     "metadata": {},
     "output_type": "execute_result"
    }
   ],
   "source": [
    "df.loc[(df.storypoint >= 0) & (df.storypoint <= 0.5), 'storypoint'] = 0 # extra_small\n",
    "df.loc[(df.storypoint > 0.5) & (df.storypoint <= 1), 'storypoint'] = 1 # small\n",
    "df.loc[(df.storypoint > 1) & (df.storypoint <= 2), 'storypoint'] = 2 # medium\n",
    "df.loc[df.storypoint > 2, 'storypoint'] = 3 # large\n",
    "df.storypoint.value_counts()"
   ]
  },
  {
   "cell_type": "markdown",
   "metadata": {
    "pycharm": {
     "name": "#%% md\n"
    }
   },
   "source": [
    "The data is still **imbalanced**. There are different techniques to deal with imbalanced data: collecting new samples, generating new samples (**oversampling**), reducing amount of samples with higher frequency (**downsampling**). It will be done later"
   ]
  },
  {
   "cell_type": "markdown",
   "metadata": {
    "collapsed": false,
    "jupyter": {
     "outputs_hidden": false
    },
    "pycharm": {
     "name": "#%% md\n"
    }
   },
   "source": [
    "**Data cleanup phase**:"
   ]
  },
  {
   "cell_type": "code",
   "execution_count": 43,
   "metadata": {
    "collapsed": false,
    "jupyter": {
     "outputs_hidden": false
    },
    "pycharm": {
     "name": "#%%\n"
    }
   },
   "outputs": [],
   "source": [
    "import nltk\n",
    "from nltk.corpus import stopwords\n",
    "import re\n",
    "import unicodedata\n",
    "import string\n",
    "\n",
    "def remove_patterns_from_ends(word):\n",
    "    pattern = r'^[^\\w\\s]+|[^\\w\\s]+$'\n",
    "\n",
    "    # Use re.sub to remove patterns at the beginning and the end of the word\n",
    "    cleaned_word = re.sub(pattern, '', word)\n",
    "\n",
    "    return cleaned_word\n",
    "\n",
    "def remove_word_if_pattern_met_twice(word):\n",
    "    pattern = r'[^\\w\\s]'\n",
    "\n",
    "    # Find all matches of the pattern in the word\n",
    "    matches = re.findall(pattern, word)\n",
    "\n",
    "    # Check if the pattern is encountered at least 2 times\n",
    "    if len(matches) >= 2:\n",
    "        return False\n",
    "    else:\n",
    "        # If not, remove patterns from both ends of the word\n",
    "        # cleaned_word = re.sub(r'^[^\\w\\s]+|[^\\w\\s]+$', '', word)\n",
    "        return True\n",
    "\n",
    "def replace_punctuation_with_space_and_remove_one_letter_word(word):\n",
    "    replaced_word = re.sub(r'[^\\w\\s]',' ', word)\n",
    "    replaced_word_arr = replaced_word.split()\n",
    "    without_one_letter = list(filter(lambda word: len(word) > 1, replaced_word_arr))\n",
    "    return \" \".join(without_one_letter)\n",
    "\n",
    "def is_word_in_stopwords(word, stopwords):\n",
    "    return word not in stopwords.words('english')\n",
    "\n",
    "def cleanData1(text):\n",
    "    lower_text = text.lower()\n",
    "    \n",
    "    text_words = lower_text.split()\n",
    "    \n",
    "    no_punctuation = list(map(remove_patterns_from_ends, text_words))\n",
    "    text_words_without_punctuation_pattern_met_twice_in_the_middle_of_the_word = list(filter(remove_word_if_pattern_met_twice, no_punctuation))\n",
    "    text_words_without_punctuation = list(map(replace_punctuation_with_space_and_remove_one_letter_word, text_words_without_punctuation_pattern_met_twice_in_the_middle_of_the_word))\n",
    "\n",
    "    no_numbered_words = list(filter(lambda word: not any(char.isdigit() for char in word), text_words_without_punctuation))\n",
    "    \n",
    "    string_words_without_punctuation = \" \".join(no_numbered_words)\n",
    "    \n",
    "    string_no_multiple_whitespaces = re.sub(' +', ' ', string_words_without_punctuation).strip()\n",
    "    \n",
    "    return string_no_multiple_whitespaces\n",
    " \n",
    "def formatFastTextClassifier(label):\n",
    "    return \"__label__\" + str(label) + \" \""
   ]
  },
  {
   "cell_type": "markdown",
   "metadata": {
    "collapsed": false,
    "jupyter": {
     "outputs_hidden": false
    },
    "pycharm": {
     "name": "#%% md\n"
    }
   },
   "source": [
    "**Important**: data cleanup should be made on each issue estimation request + additional data cleanup made by @Andrei Zaporojan during dataset preparation."
   ]
  },
  {
   "cell_type": "markdown",
   "metadata": {
    "collapsed": false,
    "jupyter": {
     "outputs_hidden": false
    },
    "pycharm": {
     "name": "#%% md\n"
    }
   },
   "source": [
    "Let's create 2 additional columns:\n",
    "1. “title_desc” - concatenation of the title and description with applied *cleanData* function\n",
    "2. \"label_title_desc\" - that contains the number of points with a specific prefix expected by FastText to recognize it as the labeled information (class)"
   ]
  },
  {
   "cell_type": "code",
   "execution_count": 44,
   "metadata": {
    "collapsed": false,
    "jupyter": {
     "outputs_hidden": false
    },
    "pycharm": {
     "name": "#%%\n"
    }
   },
   "outputs": [],
   "source": [
    "df['title'] = df['title'].apply(cleanData1)\n",
    "df['description'] = df['description'].apply(cleanData1)"
   ]
  },
  {
   "cell_type": "code",
   "execution_count": 45,
   "metadata": {
    "pycharm": {
     "name": "#%%\n"
    }
   },
   "outputs": [],
   "source": [
    "# df.to_csv('dataset_after_cleanup9.csv', index=False)\n",
    "df['title_desc'] = df['title'] + ' ' + df['description']\n",
    "df['label_title_desc'] = df['storypoint'].apply(lambda x: formatFastTextClassifier(x)) + df['title_desc']"
   ]
  },
  {
   "cell_type": "code",
   "execution_count": 46,
   "metadata": {
    "pycharm": {
     "name": "#%%\n"
    }
   },
   "outputs": [],
   "source": [
    "df = df.reset_index(drop=True)"
   ]
  },
  {
   "cell_type": "markdown",
   "metadata": {
    "pycharm": {
     "name": "#%% md\n"
    }
   },
   "source": [
    "**Dealing with imbalanced data - oversampling**"
   ]
  },
  {
   "cell_type": "code",
   "execution_count": 47,
   "metadata": {
    "pycharm": {
     "name": "#%%\n"
    }
   },
   "outputs": [],
   "source": [
    "from collections import Counter\n",
    " \n",
    "def SimpleOverSample(_xtrain, _ytrain):\n",
    "    xtrain = list(_xtrain)\n",
    "    ytrain = list(_ytrain)\n",
    " \n",
    "    samples_counter = Counter(ytrain)\n",
    "    max_samples = sorted(samples_counter.values(), reverse=True)[0]\n",
    "    for sc in samples_counter:\n",
    "        init_samples = samples_counter[sc]\n",
    "        samples_to_add = max_samples - init_samples\n",
    "        if samples_to_add > 0:\n",
    "            #collect indices to oversample for the current class\n",
    "            index = list()\n",
    "            for i in range(len(ytrain)):\n",
    "                if(ytrain[i] == sc):\n",
    "                    index.append(i)\n",
    "            #select samples to copy for the current class    \n",
    "            copy_from = [xtrain[i] for i in index]\n",
    "            index_copy = 0\n",
    "            for i in range(samples_to_add):\n",
    "                xtrain.append(copy_from[index_copy % len(copy_from)])\n",
    "                ytrain.append(sc)\n",
    "                index_copy += 1\n",
    "    return xtrain, ytrain"
   ]
  },
  {
   "cell_type": "markdown",
   "metadata": {
    "pycharm": {
     "name": "#%% md\n"
    }
   },
   "source": [
    "**Creating out classifier**"
   ]
  },
  {
   "cell_type": "markdown",
   "metadata": {
    "pycharm": {
     "name": "#%% md\n"
    }
   },
   "source": [
    "A text classifier is a machine learning model that's been trained to recognize patterns in natural language text, like the sentiment expressed by a sentence."
   ]
  },
  {
   "cell_type": "markdown",
   "metadata": {
    "pycharm": {
     "name": "#%% md\n"
    }
   },
   "source": [
    "For that purpose *FastText* classifier was used."
   ]
  },
  {
   "cell_type": "code",
   "execution_count": 48,
   "metadata": {
    "pycharm": {
     "name": "#%%\n"
    }
   },
   "outputs": [],
   "source": [
    "import uuid\n",
    "import subprocess\n",
    "import os\n",
    "\n",
    "class FastTextClassifier:\n",
    " \n",
    "    rand = \"\"\n",
    "    inputFileName = \"\"\n",
    "    outputFileName = \"\"\n",
    "    testFileName = \"\"\n",
    "    outputDir = \"\"\n",
    "    \n",
    "    def __init__(self):\n",
    "        self.rand = str(uuid.uuid4())\n",
    "        self.inputFileName = \"issues_train_\" + self.rand + \".txt\"\n",
    "        self.outputFileName = \"supervised_classifier_model_\" + self.rand\n",
    "        self.testFileName = \"issues_test_\" + self.rand + \".txt\"\n",
    "        directory_path = \"results/\" + self.rand\n",
    "        os.makedirs(directory_path, exist_ok=True)\n",
    "        self.outputDir = directory_path\n",
    "\n",
    "    def getOutputDir(self):\n",
    "        return self.outputDir\n",
    "    \n",
    "    def fit(self, xtrain, ytrain):\n",
    "        outfile=open(os.path.join(self.outputDir, self.inputFileName), mode=\"w\", encoding=\"utf-8\")\n",
    "        for i in range(len(xtrain)):\n",
    "            #line = \"__label__\" + str(ytrain[i]) + \" \" + xtrain[i]\n",
    "            line = xtrain[i]\n",
    "            outfile.write(line + '\\n')\n",
    "        outfile.close()            \n",
    "        # p1 = subprocess.Popen([\"cmd\", \"/C\", \"fasttext supervised -input \" + self.inputFileName + \" -output \" + self.outputFileName + \" -epoch 500 -wordNgrams 4 -dim 300 -minn 4 -maxn 6 -pretrainedVectors pretrain_model.vec\"],stdout=subprocess.PIPE)\n",
    "        # p1.communicate()[0].decode(\"utf-8\").split(\"\\r\\n\")\n",
    "        command = [\n",
    "            \"fastText/fasttext\",\n",
    "            \"supervised\",\n",
    "            \"-input\", os.path.join(self.outputDir, self.inputFileName),\n",
    "            \"-output\", os.path.join(self.outputDir, self.outputFileName),\n",
    "            \"-epoch\", \"500\",\n",
    "            \"-wordNgrams\", \"4\",\n",
    "            \"-dim\", \"300\",\n",
    "            \"-minn\", \"4\",\n",
    "            \"-maxn\", \"6\",\n",
    "            \"-pretrainedVectors\", \"pretrain_model.vec\"\n",
    "        ]\n",
    "        \n",
    "        # Run the command\n",
    "        result = subprocess.run(command, stdout=subprocess.PIPE, text=True)\n",
    "        \n",
    "        # Check the result\n",
    "        if result.returncode == 0:\n",
    "            print(\"Command executed successfully.\")\n",
    "            print(result.stdout)\n",
    "        else:\n",
    "            print(\"Error executing the command.\")\n",
    "            print(result.stderr)\n",
    "        \n",
    "        \n",
    "    def predict(self, xtest):\n",
    "        #save test file\n",
    "        outfile=open(os.path.join(self.outputDir, self.testFileName), mode=\"w\", encoding=\"utf-8\")\n",
    "        for i in range(len(xtest)):\n",
    "            outfile.write(xtest[i] + '\\n')\n",
    "        outfile.close()\n",
    "        #get predictions\n",
    "        command = [\n",
    "            \"fastText/fasttext\",\n",
    "            \"predict\",\n",
    "            os.path.join(self.outputDir, self.outputFileName) + \".bin\",\n",
    "            os.path.join(self.outputDir, self.testFileName)\n",
    "        ]\n",
    "        \n",
    "        # Run the command\n",
    "        result = subprocess.run(command, stdout=subprocess.PIPE, text=True)\n",
    "        \n",
    "        # Check the result\n",
    "        if result.returncode == 0:\n",
    "            print(\"Command executed successfully.\")\n",
    "            result = result.stdout.splitlines()\n",
    "        else:\n",
    "            print(\"Error executing the command.\")\n",
    "            print(result.stderr)\n",
    "            \n",
    "        test_pred = [int(float(p.replace('__label__',''))) for p in result if p != '']\n",
    "        return test_pred"
   ]
  },
  {
   "cell_type": "markdown",
   "metadata": {
    "pycharm": {
     "name": "#%% md\n"
    }
   },
   "source": [
    "**Deep learning**"
   ]
  },
  {
   "cell_type": "markdown",
   "metadata": {
    "pycharm": {
     "name": "#%% md\n"
    }
   },
   "source": [
    "FastText has pretrained vectors trained on English words from source like Wikipedia. Training process requires the file with these pretrained vectors. Author suggests to train pretrained vectors based on domain specific vocabulary. Model shows better results if pretrained vectors have been trained on domain specific text, despite the fact that this set is smaller"
   ]
  },
  {
   "cell_type": "code",
   "execution_count": 49,
   "metadata": {
    "pycharm": {
     "name": "#%%\n"
    }
   },
   "outputs": [],
   "source": [
    "import pandas as pd\n",
    "import numpy as np\n",
    " \n",
    "pretrain_files = ['apache_pretrain.csv', \n",
    "                  'jira_pretrain.csv', \n",
    "                  'spring_pretrain.csv', \n",
    "                  'talendforge_pretrain.csv', \n",
    "                  'moodle_pretrain.csv',\n",
    "                  'appcelerator_pretrain.csv',\n",
    "                  'duraspace_pretrain.csv',\n",
    "                  'mulesoft_pretrain.csv',\n",
    "                  'lsstcorp_pretrain.csv'\n",
    "                 ]\n",
    " \n",
    "pretrained = None\n",
    " \n",
    "for file in pretrain_files:\n",
    "    df_pretrain = pd.read_csv('preprocessed-pretrained-data-with-stop-words/' + file, usecols=['issuekey', 'title', 'description'])\n",
    "    if(pretrained is not None):\n",
    "        pretrained = pd.concat([pretrained, df_pretrain])\n",
    "    else:\n",
    "        pretrained = df_pretrain\n",
    " \n",
    "pretrained = pretrained.dropna(how='any')"
   ]
  },
  {
   "cell_type": "code",
   "execution_count": 746,
   "metadata": {
    "pycharm": {
     "name": "#%%\n"
    }
   },
   "outputs": [],
   "source": [
    "pretrained['title_desc'] = pretrained['title'] + ' ' + pretrained['description']"
   ]
  },
  {
   "cell_type": "markdown",
   "metadata": {
    "pycharm": {
     "name": "#%% md\n"
    }
   },
   "source": [
    "**FastText** tool works with **sentences** saved in files so:"
   ]
  },
  {
   "cell_type": "code",
   "execution_count": 747,
   "metadata": {
    "pycharm": {
     "name": "#%%\n"
    }
   },
   "outputs": [],
   "source": [
    "outfile=open(\"issues_pretrain.txt\", mode=\"w\", encoding=\"utf-8\")\n",
    "for line in pretrained.title_desc.values:\n",
    "    outfile.write(line + '\\n')\n",
    "outfile.close()"
   ]
  },
  {
   "cell_type": "markdown",
   "metadata": {
    "pycharm": {
     "name": "#%% md\n"
    }
   },
   "source": [
    "Everything ready to run pretraining process \n",
    "```fasttext skipgram -input issues_pretrain.txt -output pretrain_model -epoch 100 -wordNgrams 4 -dim 300 -minn 4 -maxn 6 -lr 0.01```"
   ]
  },
  {
   "cell_type": "markdown",
   "metadata": {
    "pycharm": {
     "name": "#%% md\n"
    }
   },
   "source": [
    "**Attention**: this command execution takes time **1-1.5 hour** (at least such amount is shown in CLI). So in future if we are going to modify pretrained datasets, this time should be taken into account."
   ]
  },
  {
   "cell_type": "markdown",
   "metadata": {
    "pycharm": {
     "name": "#%% md\n"
    }
   },
   "source": [
    "**Selecting training and testing set**"
   ]
  },
  {
   "cell_type": "markdown",
   "metadata": {
    "pycharm": {
     "name": "#%% md\n"
    }
   },
   "source": [
    "*k-fold cross-validation* technique is used for that. Training and test sets should contain as much representative data as possible. For small datasets this method is used"
   ]
  },
  {
   "cell_type": "code",
   "execution_count": 50,
   "metadata": {
    "pycharm": {
     "name": "#%%\n"
    }
   },
   "outputs": [],
   "source": [
    "def rebuild_kfold_sets(folds, k, i):\n",
    "    training_set = None\n",
    "    testing_set = None\n",
    " \n",
    "    for j in range(k):\n",
    "        if(i==j):\n",
    "            testing_set = folds[i]\n",
    "        elif(training_set is not None):\n",
    "            training_set = pd.concat([training_set, folds[j]])\n",
    "        else:\n",
    "            training_set = folds[j]\n",
    "    \n",
    "    return training_set, testing_set"
   ]
  },
  {
   "cell_type": "markdown",
   "metadata": {
    "pycharm": {
     "name": "#%% md\n"
    }
   },
   "source": [
    "**Defining evaluation criteria**"
   ]
  },
  {
   "cell_type": "markdown",
   "metadata": {
    "pycharm": {
     "name": "#%% md\n"
    }
   },
   "source": [
    "```TO DO:``` Fill info from the article"
   ]
  },
  {
   "cell_type": "markdown",
   "metadata": {
    "pycharm": {
     "name": "#%% md\n"
    }
   },
   "source": [
    "Methods to plot confusion matrix"
   ]
  },
  {
   "cell_type": "code",
   "execution_count": 51,
   "metadata": {
    "pycharm": {
     "name": "#%%\n"
    }
   },
   "outputs": [],
   "source": [
    "import itertools\n",
    "import numpy as np\n",
    "import matplotlib.pyplot as plt\n",
    "from sklearn.metrics import ConfusionMatrixDisplay  # Add this import for ConfusionMatrixDisplay\n",
    "import os\n",
    "\n",
    "def plot_confusion_matrix(cm, classes, normalize=False, title='Confusion matrix', cmap=plt.cm.Blues):\n",
    "    \"\"\"\n",
    "    This function prints and plots the confusion matrix.\n",
    "    Normalization can be applied by setting `normalize=True`.\n",
    "    \"\"\"\n",
    "    if normalize:\n",
    "        cm = cm.astype('float') / cm.sum(axis=1)[:, np.newaxis]\n",
    "\n",
    "    plt.imshow(cm, interpolation='nearest', cmap=cmap)\n",
    "    plt.title(title)\n",
    "    plt.colorbar()\n",
    "    tick_marks = np.arange(len(classes))\n",
    "    plt.xticks(tick_marks, classes, rotation=45)\n",
    "    plt.yticks(tick_marks, classes)\n",
    "\n",
    "    fmt = '.2f' if normalize else 'd'\n",
    "    thresh = cm.max() / 2.\n",
    "    for i, j in itertools.product(range(cm.shape[0]), range(cm.shape[1])):\n",
    "        plt.text(j, i, format(cm[i, j], fmt),\n",
    "                 horizontalalignment=\"center\",\n",
    "                 color=\"white\" if cm[i, j] > thresh else \"black\")\n",
    "\n",
    "    plt.tight_layout()\n",
    "    plt.ylabel('True label')\n",
    "    plt.xlabel('Predicted label')\n",
    "\n",
    "def plot_confusion_matrix_with_accuracy(classes, y_true, y_pred, title, sum_overall_accuracy, total_predictions):\n",
    "    cm = confusion_matrix(y_true, y_pred)\n",
    "    print('Current Overall accuracy: ' + str(cm.diagonal().sum() / cm.sum()))\n",
    "    \n",
    "    if total_predictions != 0:\n",
    "        print('Total Overall Accuracy: ' + str(sum_overall_accuracy / total_predictions))\n",
    "    else:\n",
    "        print('Total Overall Accuracy: ' + str(cm.diagonal().sum() / cm.sum()))\n",
    "\n",
    "    # Use ConfusionMatrixDisplay to plot confusion matrix\n",
    "    disp = ConfusionMatrixDisplay(confusion_matrix=cm, display_labels=classes)\n",
    "    disp.plot(cmap=plt.cm.Blues, values_format=\".2f\", ax=plt.gca())\n",
    "    plt.title(title)\n",
    "    plt.savefig(os.path.join(output_dir_global, \"confusion_matrix.png\"), bbox_inches='tight')\n",
    "    plt.show()"
   ]
  },
  {
   "cell_type": "markdown",
   "metadata": {
    "collapsed": false,
    "jupyter": {
     "outputs_hidden": false
    },
    "pycharm": {
     "name": "#%% md\n"
    }
   },
   "source": [
    "**Main method** (k-fold cross-validation, with oversampling in training folders)"
   ]
  },
  {
   "cell_type": "code",
   "execution_count": null,
   "metadata": {
    "collapsed": false,
    "jupyter": {
     "outputs_hidden": false
    },
    "pycharm": {
     "name": "#%%\n"
    }
   },
   "outputs": [
    {
     "name": "stderr",
     "output_type": "stream",
     "text": [
      "Read 0M words\n",
      "Number of words:  4221\n",
      "Number of labels: 4\n",
      "Progress: 100.0% words/sec/thread:  117664 lr:  0.000000 avg.loss:  0.102809 ETA:   0h 0m 0s 12.5% words/sec/thread:  109288 lr:  0.087542 avg.loss:  0.648415 ETA:   0h 1m 5s 40.8% words/sec/thread:  114994 lr:  0.059185 avg.loss:  0.227411 ETA:   0h 0m41s 93.2% words/sec/thread:  117506 lr:  0.006781 avg.loss:  0.109196 ETA:   0h 0m 4s 94.4% words/sec/thread:  117541 lr:  0.005572 avg.loss:  0.108083 ETA:   0h 0m 3s\n"
     ]
    },
    {
     "name": "stdout",
     "output_type": "stream",
     "text": [
      "Command executed successfully.\n",
      "\n",
      "Command executed successfully.\n",
      "Current Overall accuracy: 0.4069767441860465\n",
      "Total Overall Accuracy: 0.4069767441860465\n"
     ]
    },
    {
     "name": "stderr",
     "output_type": "stream",
     "text": [
      "/var/folders/b0/9cyvb6kx2d9btjzmzv24pf9w0000gp/T/ipykernel_5921/3324028779.py:47: SettingWithCopyWarning: \n",
      "A value is trying to be set on a copy of a slice from a DataFrame.\n",
      "Try using .loc[row_indexer,col_indexer] = value instead\n",
      "\n",
      "See the caveats in the documentation: https://pandas.pydata.org/pandas-docs/stable/user_guide/indexing.html#returning-a-view-versus-a-copy\n",
      "  ts[\"prediction\"] = y_pred\n"
     ]
    },
    {
     "data": {
      "image/png": "[encoded data removed]",
      "text/plain": [
       "<Figure size 640x480 with 2 Axes>"
      ]
     },
     "metadata": {},
     "output_type": "display_data"
    },
    {
     "name": "stderr",
     "output_type": "stream",
     "text": [
      "Read 0M words\n",
      "Number of words:  4275\n",
      "Number of labels: 4\n",
      "Progress: 100.0% words/sec/thread:   88780 lr:  0.000000 avg.loss:  0.101826 ETA:   0h 0m 0s 12.2% words/sec/thread:   75730 lr:  0.087813 avg.loss:  0.654848 ETA:   0h 1m31s 25.9% words/sec/thread:   71887 lr:  0.074128 avg.loss:  0.343402 ETA:   0h 1m21s 26.7% words/sec/thread:   71319 lr:  0.073324 avg.loss:  0.335229 ETA:   0h 1m21s 43.3% words/sec/thread:   79022 lr:  0.056661 avg.loss:  0.215568 ETA:   0h 0m56s 79.4% words/sec/thread:   85292 lr:  0.020582 avg.loss:  0.124816 ETA:   0h 0m19s\n"
     ]
    },
    {
     "name": "stdout",
     "output_type": "stream",
     "text": [
      "Command executed successfully.\n",
      "\n",
      "Command executed successfully.\n",
      "Current Overall accuracy: 0.3992248062015504\n",
      "Total Overall Accuracy: 0.40310077519379844\n"
     ]
    },
    {
     "name": "stderr",
     "output_type": "stream",
     "text": [
      "/var/folders/b0/9cyvb6kx2d9btjzmzv24pf9w0000gp/T/ipykernel_5921/3324028779.py:47: SettingWithCopyWarning: \n",
      "A value is trying to be set on a copy of a slice from a DataFrame.\n",
      "Try using .loc[row_indexer,col_indexer] = value instead\n",
      "\n",
      "See the caveats in the documentation: https://pandas.pydata.org/pandas-docs/stable/user_guide/indexing.html#returning-a-view-versus-a-copy\n",
      "  ts[\"prediction\"] = y_pred\n"
     ]
    },
    {
     "data": {
      "image/png": "[encoded data removed]",
      "text/plain": [
       "<Figure size 640x480 with 2 Axes>"
      ]
     },
     "metadata": {},
     "output_type": "display_data"
    },
    {
     "name": "stderr",
     "output_type": "stream",
     "text": [
      "Read 0M words\n",
      "Number of words:  4308\n",
      "Number of labels: 4\n",
      "Progress:  87.8% words/sec/thread:  104731 lr:  0.012174 avg.loss:  0.113928 ETA:   0h 0m 8s  5.7% words/sec/thread:  115562 lr:  0.094346 avg.loss:  1.074571 ETA:   0h 1m 3s 15.5% words/sec/thread:  116030 lr:  0.084527 avg.loss:  0.537693 ETA:   0h 0m56s 68.6% words/sec/thread:  105782 lr:  0.031378 avg.loss:  0.141776 ETA:   0h 0m22s"
     ]
    }
   ],
   "source": [
    "from sklearn.metrics import confusion_matrix\n",
    "import ipywidgets as widgets\n",
    "import os\n",
    " \n",
    "# K-folds cross validation \n",
    "# K=5 or K=10 are generally used. \n",
    "# Note that the overall execution time increases linearly with k\n",
    "k = 5\n",
    " \n",
    "# Define the classes for the classifier\n",
    "classes = ['0','1','2', '3']\n",
    " \n",
    "# Make Dataset random before start\n",
    "df_rand = df.sample(df.storypoint.count(), random_state=99)\n",
    " \n",
    "# Number of examples in each fold\n",
    "fsamples =  int(df_rand.storypoint.count() / k)\n",
    " \n",
    "# Fill folds (obs: last folder could contain less than fsamples datapoints)\n",
    "folds = list()\n",
    "for i in range(k):\n",
    "    folds.append(df_rand.iloc[i * fsamples : (i + 1) * fsamples])\n",
    "        \n",
    "# Init\n",
    "sum_overall_accuracy = 0\n",
    "total_predictions = 0\n",
    " \n",
    "# Repeat k times and average results\n",
    "for i in range(k):\n",
    "    \n",
    "    #1 - Build new training and testing set for iteration i\n",
    "    training_set, testing_set  = rebuild_kfold_sets(folds, k, i)\n",
    "    y_true = testing_set.storypoint.tolist()\n",
    " \n",
    "    #2 - Oversample (ONLY TRAINING DATA)\n",
    "    X_resampled, y_resampled =  SimpleOverSample(training_set.label_title_desc.values.tolist(), training_set.storypoint.values.tolist())\n",
    "    \n",
    "    #3 - train\n",
    "    clf = FastTextClassifier()\n",
    "    output_dir_global = clf.getOutputDir()\n",
    "    clf.fit(X_resampled, y_resampled)\n",
    "    \n",
    "    #4 - Predict\n",
    "    y_pred = clf.predict(testing_set.label_title_desc.values.tolist())\n",
    "\n",
    "    ts = testing_set[[\"issuekey\", \"title\", \"description\", \"storypoint\"]]\n",
    "    ts[\"prediction\"] = y_pred\n",
    "    jsonDf = ts.to_json(orient='records')\n",
    "    # Save JSON data to a file\n",
    "    with open(os.path.join(output_dir_global, 'backlog_items.json'), 'w') as json_file:\n",
    "        json_file.write(jsonDf)\n",
    "\n",
    "    html_content = '''<script>var backlog_items = {};</script>'''.format(jsonDf)\n",
    "    html_widget = widgets.HTML(value=html_content)\n",
    "\n",
    "    with open(os.path.join(output_dir_global, 'index.html'), 'w') as html_file:\n",
    "        html_file.write(html_content)\n",
    "    # widgets.HTML(value = ''' backlog_items = ''' + jsonDf)\n",
    "\n",
    "    #3 - Update Overall Accuracy\n",
    "    for num_pred in range(len(y_pred)):\n",
    "        if(y_pred[num_pred] == y_true[num_pred]):\n",
    "            sum_overall_accuracy += 1\n",
    "        total_predictions += 1\n",
    " \n",
    "    #4 - Plot Confusion Matrix and accuracy \n",
    "    plot_confusion_matrix_with_accuracy(classes, y_true, y_pred, 'Confusion matrix (testing-set folder = ' + str(i) + ')', sum_overall_accuracy, total_predictions)"
   ]
  },
  {
   "cell_type": "code",
   "execution_count": null,
   "metadata": {},
   "outputs": [],
   "source": []
  }
 ],
 "metadata": {
  "kernelspec": {
   "display_name": "Python 3 (ipykernel)",
   "language": "python",
   "name": "python3"
  },
  "language_info": {
   "codemirror_mode": {
    "name": "ipython",
    "version": 3
   },
   "file_extension": ".py",
   "mimetype": "text/x-python",
   "name": "python",
   "nbconvert_exporter": "python",
   "pygments_lexer": "ipython3",
   "version": "3.10.13"
  }
 },
 "nbformat": 4,
 "nbformat_minor": 4
}