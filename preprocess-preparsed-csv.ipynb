{
 "cells": [
  {
   "cell_type": "markdown",
   "metadata": {
    "pycharm": {
     "name": "#%% md\n"
    }
   },
   "source": [
    "**Sources**:\n",
    "\n",
    "[Software estimation machine learning article](https://uruit.com/blog/software-estimation-machine-learning/)\n",
    "\n",
    "[Text preprocessing in NLP beginner guide](https://swatimeena989.medium.com/beginners-guide-for-preprocessing-text-data-f3156bec85ca#47f5)"
   ]
  },
  {
   "cell_type": "code",
   "execution_count": 75,
   "metadata": {
    "collapsed": false,
    "jupyter": {
     "outputs_hidden": false
    },
    "pycharm": {
     "name": "#%%\n"
    }
   },
   "outputs": [],
   "source": [
    "import pandas as pd\n",
    "import numpy as np\n",
    "\n",
    "pretrain_csv = \"pretrained-data/talendforge_pretrain.csv\"\n",
    "preprocessed_pretrained_data = \"preprocessed-pretrained-data-with-stop-words/talendforge_pretrain.csv\"\n",
    "\n",
    "df = pd.read_csv(pretrain_csv, usecols=['issuekey', 'title', 'description'])"
   ]
  },
  {
   "cell_type": "code",
   "execution_count": 76,
   "metadata": {
    "collapsed": false,
    "jupyter": {
     "outputs_hidden": false
    },
    "pycharm": {
     "name": "#%%\n"
    }
   },
   "outputs": [
    {
     "data": {
      "text/plain": [
       "issuekey       0\n",
       "title          0\n",
       "description    0\n",
       "dtype: int64"
      ]
     },
     "execution_count": 76,
     "metadata": {},
     "output_type": "execute_result"
    }
   ],
   "source": [
    "df.isnull().sum()"
   ]
  },
  {
   "cell_type": "code",
   "execution_count": 77,
   "metadata": {},
   "outputs": [
    {
     "data": {
      "text/plain": [
       "issuekey       50000\n",
       "title          50000\n",
       "description    50000\n",
       "dtype: int64"
      ]
     },
     "execution_count": 77,
     "metadata": {},
     "output_type": "execute_result"
    }
   ],
   "source": [
    "df.count()"
   ]
  },
  {
   "cell_type": "code",
   "execution_count": 78,
   "metadata": {
    "collapsed": false,
    "jupyter": {
     "outputs_hidden": false
    },
    "pycharm": {
     "name": "#%%\n"
    }
   },
   "outputs": [],
   "source": [
    "df = df.dropna(how='any')"
   ]
  },
  {
   "cell_type": "code",
   "execution_count": 79,
   "metadata": {},
   "outputs": [
    {
     "data": {
      "text/plain": [
       "issuekey       50000\n",
       "title          50000\n",
       "description    50000\n",
       "dtype: int64"
      ]
     },
     "execution_count": 79,
     "metadata": {},
     "output_type": "execute_result"
    }
   ],
   "source": [
    "df.count()"
   ]
  },
  {
   "cell_type": "markdown",
   "metadata": {
    "collapsed": false,
    "jupyter": {
     "outputs_hidden": false
    },
    "pycharm": {
     "name": "#%% md\n"
    }
   },
   "source": [
    "**Data cleanup phase**:"
   ]
  },
  {
   "cell_type": "code",
   "execution_count": 80,
   "metadata": {
    "collapsed": false,
    "jupyter": {
     "outputs_hidden": false
    },
    "pycharm": {
     "name": "#%%\n"
    }
   },
   "outputs": [],
   "source": [
    "import nltk\n",
    "from nltk.corpus import stopwords\n",
    "import re\n",
    "import unicodedata\n",
    "import string\n",
    "\n",
    "def remove_patterns_from_ends(word):\n",
    "    pattern = r'^[^\\w\\s]+|[^\\w\\s]+$'\n",
    "\n",
    "    # Use re.sub to remove patterns at the beginning and the end of the word\n",
    "    cleaned_word = re.sub(pattern, '', word)\n",
    "\n",
    "    return cleaned_word\n",
    "\n",
    "def remove_word_if_pattern_met_twice(word):\n",
    "    pattern = r'[^\\w\\s]'\n",
    "\n",
    "    # Find all matches of the pattern in the word\n",
    "    matches = re.findall(pattern, word)\n",
    "\n",
    "    # Check if the pattern is encountered at least 2 times\n",
    "    if len(matches) >= 2:\n",
    "        return False\n",
    "    else:\n",
    "        # If not, remove patterns from both ends of the word\n",
    "        # cleaned_word = re.sub(r'^[^\\w\\s]+|[^\\w\\s]+$', '', word)\n",
    "        return True\n",
    "\n",
    "def replace_punctuation_with_space_and_remove_one_letter_word(word):\n",
    "    replaced_word = re.sub(r'[^\\w\\s]',' ', word)\n",
    "    replaced_word_arr = replaced_word.split()\n",
    "    without_one_letter = list(filter(lambda word: len(word) > 1, replaced_word_arr))\n",
    "    return \" \".join(without_one_letter)\n",
    "\n",
    "def is_word_in_stopwords(word, stopwords):\n",
    "    return word not in stopwords.words('english')\n",
    "\n",
    "def cleanData1(text):\n",
    "    lower_text = text.lower()\n",
    "    \n",
    "    text_words = lower_text.split()\n",
    "    \n",
    "    no_punctuation = list(map(remove_patterns_from_ends, text_words))\n",
    "    text_words_without_punctuation_pattern_met_twice_in_the_middle_of_the_word = list(filter(remove_word_if_pattern_met_twice, no_punctuation))\n",
    "    text_words_without_punctuation = list(map(replace_punctuation_with_space_and_remove_one_letter_word, text_words_without_punctuation_pattern_met_twice_in_the_middle_of_the_word))\n",
    "\n",
    "    no_numbered_words = list(filter(lambda word: not any(char.isdigit() for char in word), text_words_without_punctuation))\n",
    "    \n",
    "    string_words_without_punctuation = \" \".join(no_numbered_words)\n",
    "    \n",
    "    string_no_multiple_whitespaces = re.sub(' +', ' ', string_words_without_punctuation).strip()\n",
    "    \n",
    "    return string_no_multiple_whitespaces\n",
    " \n",
    "def formatFastTextClassifier(label):\n",
    "    return \"__label__\" + str(label) + \" \""
   ]
  },
  {
   "cell_type": "code",
   "execution_count": 81,
   "metadata": {
    "collapsed": false,
    "jupyter": {
     "outputs_hidden": false
    },
    "pycharm": {
     "name": "#%%\n"
    }
   },
   "outputs": [],
   "source": [
    "df['title'] = df['title'].apply(cleanData1)\n",
    "df['description'] = df['description'].apply(cleanData1)"
   ]
  },
  {
   "cell_type": "code",
   "execution_count": 82,
   "metadata": {
    "collapsed": false,
    "jupyter": {
     "outputs_hidden": false
    },
    "pycharm": {
     "name": "#%%\n"
    }
   },
   "outputs": [],
   "source": [
    "df = df.dropna(how='any')"
   ]
  },
  {
   "cell_type": "code",
   "execution_count": 83,
   "metadata": {},
   "outputs": [],
   "source": [
    "df = df.reset_index(drop=True)"
   ]
  },
  {
   "cell_type": "code",
   "execution_count": 84,
   "metadata": {
    "collapsed": false,
    "jupyter": {
     "outputs_hidden": false
    },
    "pycharm": {
     "name": "#%%\n"
    }
   },
   "outputs": [],
   "source": [
    "df.to_csv(preprocessed_pretrained_data, index=False)"
   ]
  },
  {
   "cell_type": "code",
   "execution_count": null,
   "metadata": {},
   "outputs": [],
   "source": []
  }
 ],
 "metadata": {
  "kernelspec": {
   "display_name": "Python 3 (ipykernel)",
   "language": "python",
   "name": "python3"
  },
  "language_info": {
   "codemirror_mode": {
    "name": "ipython",
    "version": 3
   },
   "file_extension": ".py",
   "mimetype": "text/x-python",
   "name": "python",
   "nbconvert_exporter": "python",
   "pygments_lexer": "ipython3",
   "version": "3.10.13"
  }
 },
 "nbformat": 4,
 "nbformat_minor": 4
}